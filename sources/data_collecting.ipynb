{
 "cells": [
  {
   "attachments": {},
   "cell_type": "markdown",
   "metadata": {},
   "source": [
    "<h1 style=\"background-color: #80a5d6; font-family:Quicksand; font-weight: 500; color:white;line-height: 3em; padding-left: 1em; \";font-size: 50px;>FINAL ASSIGNMENT - NHÓM 13 </h1>"
   ]
  },
  {
   "attachments": {},
   "cell_type": "markdown",
   "metadata": {},
   "source": [
    "<h2> 📂 A. THU THẬP DỮ LIỆU </h2>"
   ]
  },
  {
   "attachments": {},
   "cell_type": "markdown",
   "metadata": {},
   "source": [
    "### 🔥 1. Tổng quan\n",
    "\n",
    "- Sự phổ biến của điện thoại thông minh cho phép mọi người thông báo trường hợp khẩn cấp mà họ đang quan sát thấy trong thời gian thực và Twitter đã trở thành một kênh liên lạc quan trọng trong trường hợp khẩn cấp. Do đó, nhiều cơ quan như các tổ chức cứu trợ thảm họa và các hãng thông tấn... quan tâm đến việc theo dõi các thông tin trên Twitter. Tuy nhiên, cần xác định xem liệu thông tin của một người về các thảm họa có thực sự đúng hay không.\n",
    "\n",
    "- Trong cuộc thi này, bạn sẽ được thử thách xây dựng một mô hình máy học dự đoán Tweet nào nói về thảm họa thực sự và Tweet nào không. Bạn sẽ có quyền truy cập vào tập dữ liệu gồm 10.000 tweet đã được phân loại thủ công."
   ]
  },
  {
   "attachments": {},
   "cell_type": "markdown",
   "metadata": {},
   "source": [
    "### 🔥 2. Chủ đề và nội dung\n",
    "- **Chủ đề:** Natural Language Processing with Disaster Tweets.\n",
    "- **Nội dung:** Dự đoán Tweet nào mang thông tin về một thảm họa thật sự đang diễn ra.\n",
    "- **Nguồn dữ liệu:**: Bộ dữ liệu này được tạo ra bởi công ty figure-eight và được chia sẻ trên [Data For Everyone website](https://appen.com/pre-labeled-datasets/).\n",
    "- **Nguồn Tweet:**: [Tweet Source](https://twitter.com/AnyOtherAnnaK/status/629195955506708480)."
   ]
  },
  {
   "attachments": {},
   "cell_type": "markdown",
   "metadata": {},
   "source": [
    "### 🔥 3. Thông tin về dữ liệu\n",
    "\n",
    "**Cấu trúc tập dữ liệu:** Tập dữ liệu bao gồm 3 files, kích cớ 1.43 MB, với loại file là csv. Trong đó nổi bật là:\n",
    "- **train.csv** : tập huấn luyện.\n",
    "- **test.csv** : tập kiểm tra.\n",
    "- **sample_submission.csv**: tập dữ liệu mẫu để submit lên **Kaggle**."
   ]
  },
  {
   "attachments": {},
   "cell_type": "markdown",
   "metadata": {},
   "source": [
    "---"
   ]
  }
 ],
 "metadata": {
  "language_info": {
   "name": "python"
  },
  "orig_nbformat": 4
 },
 "nbformat": 4,
 "nbformat_minor": 2
}
